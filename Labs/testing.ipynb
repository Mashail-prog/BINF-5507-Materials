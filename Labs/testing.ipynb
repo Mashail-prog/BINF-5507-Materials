{
 "cells": [
  {
   "cell_type": "code",
   "execution_count": null,
   "id": "ab5a6b4c",
   "metadata": {},
   "outputs": [],
   "source": [
    "# This is a testing notebook for the purposes of this demo"
   ]
  }
 ],
 "metadata": {
  "language_info": {
   "name": "python"
  }
 },
 "nbformat": 4,
 "nbformat_minor": 5
}
